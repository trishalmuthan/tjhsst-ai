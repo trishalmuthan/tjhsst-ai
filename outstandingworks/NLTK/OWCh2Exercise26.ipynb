{
 "cells": [
  {
   "cell_type": "code",
   "execution_count": 8,
   "metadata": {},
   "outputs": [],
   "source": [
    "import nltk\n",
    "from nltk.corpus import wordnet as wn"
   ]
  },
  {
   "cell_type": "code",
   "execution_count": 9,
   "metadata": {},
   "outputs": [
    {
     "name": "stdout",
     "output_type": "stream",
     "text": [
      "Branching factor of the noun hypernym hierarchy: 4.543820763194153\n"
     ]
    }
   ],
   "source": [
    "count_hyponyms = 0\n",
    "total_sum = 0\n",
    "for synset in wn.all_synsets('n'):\n",
    "    cur_hyponyms = synset.hyponyms()\n",
    "    if len(cur_hyponyms) > 0:\n",
    "        count_hyponyms += 1\n",
    "        total_sum += len(cur_hyponyms)\n",
    "print(f'Branching factor of the noun hypernym hierarchy: {total_sum / count_hyponyms}')"
   ]
  }
 ],
 "metadata": {
  "kernelspec": {
   "display_name": "Python 3",
   "language": "python",
   "name": "python3"
  },
  "language_info": {
   "codemirror_mode": {
    "name": "ipython",
    "version": 3
   },
   "file_extension": ".py",
   "mimetype": "text/x-python",
   "name": "python",
   "nbconvert_exporter": "python",
   "pygments_lexer": "ipython3",
   "version": "3.7.6"
  }
 },
 "nbformat": 4,
 "nbformat_minor": 4
}
