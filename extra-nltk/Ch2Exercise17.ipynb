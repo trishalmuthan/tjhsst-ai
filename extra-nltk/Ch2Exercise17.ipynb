{
 "cells": [
  {
   "cell_type": "code",
   "execution_count": 14,
   "metadata": {},
   "outputs": [],
   "source": [
    "import nltk"
   ]
  },
  {
   "cell_type": "code",
   "execution_count": 15,
   "metadata": {
    "scrolled": true
   },
   "outputs": [
    {
     "name": "stdout",
     "output_type": "stream",
     "text": [
      "50 most occuring words in Emma\n",
      "['mr', 'emma', 'could', 'would', 'mrs', 'miss', 'must', 'harriet', 'much', 'said', 'one', 'weston', 'every', 'well', 'thing', 'knightley', 'elton', 'think', 'little', 'never', 'good', 'know', 'might', 'woodhouse', 'say', 'jane', 'quite', 'time', 'great', 'nothing', 'dear', 'fairfax', 'always', 'man', 'thought', 'soon', 'churchill', 'see', 'may', 'shall', 'without', 'first', 'frank', 'father', 'sure', 'indeed', 'like', 'made', 'body', 'ever']\n",
      "\n",
      "50 most occuring words in Hamlet\n",
      "['ham', 'lord', 'haue', 'king', 'thou', 'shall', 'come', 'let', 'hamlet', 'good', 'hor', 'thy', 'enter', 'oh', 'like', 'would', 'well', 'know', 'tis', 'selfe', 'loue', 'may', 'vs', 'th', 'sir', 'qu', 'laer', 'giue', 'thee', 'ile', 'must', 'hath', 'ophe', 'speake', 'make', 'vpon', 'say', 'doe', 'heere', 'father', 'pol', 'see', 'go', 'one', 'man', 'heauen', 'time', 'mine', 'much', 'thinke']\n"
     ]
    }
   ],
   "source": [
    "emma = nltk.corpus.gutenberg.words('austen-emma.txt')\n",
    "print('50 most occuring words in Emma')\n",
    "all_stopwords = nltk.corpus.stopwords.words('english')\n",
    "legit_words = [word.lower() for word in emma if word.lower() not in all_stopwords and any((char.isalpha() for char in word.lower()))]\n",
    "freqdist = nltk.FreqDist(legit_words)\n",
    "print([word for word, freq in freqdist.most_common(50)])\n",
    "\n",
    "print()\n",
    "print('50 most occuring words in Hamlet')\n",
    "hamlet = nltk.corpus.gutenberg.words('shakespeare-hamlet.txt')\n",
    "all_stopwords = nltk.corpus.stopwords.words('english')\n",
    "legit_words = [word.lower() for word in hamlet if word.lower() not in all_stopwords and any((char.isalpha() for char in word.lower()))]\n",
    "freqdist = nltk.FreqDist(legit_words)\n",
    "print([word for word, freq in freqdist.most_common(50)])"
   ]
  },
  {
   "cell_type": "code",
   "execution_count": null,
   "metadata": {},
   "outputs": [],
   "source": []
  }
 ],
 "metadata": {
  "kernelspec": {
   "display_name": "Python 3",
   "language": "python",
   "name": "python3"
  },
  "language_info": {
   "codemirror_mode": {
    "name": "ipython",
    "version": 3
   },
   "file_extension": ".py",
   "mimetype": "text/x-python",
   "name": "python",
   "nbconvert_exporter": "python",
   "pygments_lexer": "ipython3",
   "version": "3.7.6"
  }
 },
 "nbformat": 4,
 "nbformat_minor": 4
}
