{
 "cells": [
  {
   "cell_type": "code",
   "execution_count": 26,
   "metadata": {},
   "outputs": [],
   "source": [
    "import nltk\n",
    "\n",
    "import requests\n",
    "from urllib import request"
   ]
  },
  {
   "cell_type": "code",
   "execution_count": 27,
   "metadata": {},
   "outputs": [
    {
     "name": "stdout",
     "output_type": "stream",
     "text": [
      "The opening text from a book I enjoyed called Daisy Miller\n"
     ]
    },
    {
     "data": {
      "text/plain": [
       "'At the little town of Vevey, in Switzerland, there is a particularly\\r\\ncomfortable hotel. There are, indeed, many hotels, for the entertainment\\r\\nof tourists is the business of the place, which, as many travelers will\\r\\nremember, is seated upon the edge of a remarkably blue lake--a lake that\\r\\nit behooves every tourist to visit.'"
      ]
     },
     "execution_count": 27,
     "metadata": {},
     "output_type": "execute_result"
    }
   ],
   "source": [
    "url = 'http://www.gutenberg.org/files/208/208-0.txt'\n",
    "print('The opening text from a book I enjoyed called Daisy Miller')\n",
    "response = request.urlopen(url)\n",
    "raw = response.read().decode('utf-8')\n",
    "start = raw.find('At the')\n",
    "end = raw.find('visit.')\n",
    "raw[start:end+6]"
   ]
  }
 ],
 "metadata": {
  "kernelspec": {
   "display_name": "Python 3",
   "language": "python",
   "name": "python3"
  },
  "language_info": {
   "codemirror_mode": {
    "name": "ipython",
    "version": 3
   },
   "file_extension": ".py",
   "mimetype": "text/x-python",
   "name": "python",
   "nbconvert_exporter": "python",
   "pygments_lexer": "ipython3",
   "version": "3.7.6"
  }
 },
 "nbformat": 4,
 "nbformat_minor": 4
}
