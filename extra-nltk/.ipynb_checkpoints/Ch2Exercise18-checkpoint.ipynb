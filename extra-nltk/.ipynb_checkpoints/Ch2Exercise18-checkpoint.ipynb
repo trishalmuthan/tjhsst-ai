{
 "cells": [
  {
   "cell_type": "code",
   "execution_count": 10,
   "metadata": {},
   "outputs": [],
   "source": [
    "import nltk\n"
   ]
  },
  {
   "cell_type": "code",
   "execution_count": 12,
   "metadata": {},
   "outputs": [
    {
     "name": "stdout",
     "output_type": "stream",
     "text": [
      "50 most occuring bigrams in Emma\n",
      "[('Miss', 'Woodhouse'), ('Frank', 'Churchill'), ('Miss', 'Fairfax'), ('I', 'shall'), ('every', 'thing'), ('Miss', 'Bates'), ('Jane', 'Fairfax'), ('I', 'think'), ('every', 'body'), ('I', 'hope'), ('I', 'could'), ('I', 'must'), ('young', 'man'), ('I', 'cannot'), ('great', 'deal'), ('I', 'would'), ('Emma', 'could'), ('said', 'Emma'), ('I', 'know'), ('Miss', 'Smith'), ('John', 'Knightley'), ('I', 'never'), ('I', 'dare'), ('dare', 'say'), ('Miss', 'Taylor'), ('I', 'assure'), ('I', 'believe'), ('But', 'I'), ('My', 'dear'), ('said', 'Mr'), ('I', 'thought'), ('I', 'suppose'), ('She', 'could'), ('I', 'wish'), ('dear', 'Emma'), ('Harriet', 'Smith'), ('Robert', 'Martin'), ('Maple', 'Grove'), ('It', 'would'), ('Colonel', 'Campbell'), ('cried', 'Emma'), ('She', 'would'), ('And', 'I'), ('young', 'woman'), ('young', 'lady'), ('body', 'else'), ('If', 'I'), ('She', 'must'), ('I', 'always'), ('good', 'deal')]\n",
      "\n",
      "50 most occuring bigrams in Hamlet\n",
      "[('I', 'haue'), ('Lord', 'Ham'), ('My', 'Lord'), ('I', 'know'), ('I', 'pray'), ('That', 'I'), ('I', 'shall'), ('Enter', 'King'), ('haue', 'seene'), ('I', 'must'), ('And', 'let'), ('I', 'would'), ('Lord', 'Hamlet'), ('Enter', 'Hamlet'), ('I', 'thinke'), ('st', 'thou'), ('good', 'Lord'), ('I', 'saw'), ('I', 'could'), ('I', 'cannot'), ('And', 'I'), ('thou', 'hast'), ('Enter', 'Polonius'), ('Lord', 'Polon'), ('Fathers', 'death'), ('If', 'thou'), ('I', 'see'), ('The', 'King'), ('I', 'doe'), ('Ile', 'haue'), ('mine', 'owne'), ('haue', 'heard'), ('To', 'giue'), ('Enter', 'Horatio'), ('let', 'vs'), ('thou', 'art'), ('haue', 'I'), ('What', 'would'), ('As', 'I'), ('You', 'must'), ('wilt', 'thou'), ('shall', 'I'), ('And', 'thus'), ('set', 'downe'), ('I', 'hope'), ('Hamlet', 'Ham'), ('thinke', 'I'), ('thy', 'selfe'), ('Father', 'lost'), ('Enter', 'Ghost')]\n"
     ]
    }
   ],
   "source": [
    "emma = nltk.corpus.gutenberg.words('austen-emma.txt')\n",
    "print('50 most occuring bigrams in Emma')\n",
    "all_stopwords = nltk.corpus.stopwords.words('english')\n",
    "legit_bigrams = [bigram for bigram in nltk.bigrams(emma) if bigram[0] not in all_stopwords and bigram[1] not in all_stopwords and any(char.isalpha() for char in bigram[0]) and any((char.isalpha() for char in bigram[1]))]\n",
    "freqdist = nltk.FreqDist(legit_bigrams)\n",
    "print([word for word, freq in freqdist.most_common(50)])\n",
    "print()\n",
    "hamlet = nltk.corpus.gutenberg.words('shakespeare-hamlet.txt')\n",
    "print('50 most occuring bigrams in Hamlet')\n",
    "all_stopwords = nltk.corpus.stopwords.words('english')\n",
    "legit_bigrams = [bigram for bigram in nltk.bigrams(hamlet) if bigram[0] not in all_stopwords and bigram[1] not in all_stopwords and any(char.isalpha() for char in bigram[0]) and any((char.isalpha() for char in bigram[1]))]\n",
    "freqdist = nltk.FreqDist(legit_bigrams)\n",
    "print([word for word, freq in freqdist.most_common(50)])"
   ]
  },
  {
   "cell_type": "code",
   "execution_count": null,
   "metadata": {},
   "outputs": [],
   "source": []
  }
 ],
 "metadata": {
  "kernelspec": {
   "display_name": "Python 3",
   "language": "python",
   "name": "python3"
  },
  "language_info": {
   "codemirror_mode": {
    "name": "ipython",
    "version": 3
   },
   "file_extension": ".py",
   "mimetype": "text/x-python",
   "name": "python",
   "nbconvert_exporter": "python",
   "pygments_lexer": "ipython3",
   "version": "3.7.6"
  }
 },
 "nbformat": 4,
 "nbformat_minor": 4
}
