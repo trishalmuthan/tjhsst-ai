{
 "cells": [
  {
   "cell_type": "code",
   "execution_count": 26,
   "metadata": {},
   "outputs": [],
   "source": [
    "import nltk\n",
    "import pylab\n",
    "import random"
   ]
  },
  {
   "cell_type": "code",
   "execution_count": 27,
   "metadata": {},
   "outputs": [],
   "source": [
    "def zipf(text):\n",
    "    freqdist = nltk.FreqDist(text)\n",
    "    cur_rank = 1\n",
    "    x_ranks = list()\n",
    "    y_frequencies = list()\n",
    "    for word, frequency in freqdist.most_common(300):\n",
    "        if any(char.isalpha() for char in word):\n",
    "            x_ranks.append(cur_rank)\n",
    "            y_frequencies.append(frequency)\n",
    "            cur_rank += 1\n",
    "    pylab.plot(x_ranks, y_frequencies)"
   ]
  },
  {
   "cell_type": "code",
   "execution_count": 28,
   "metadata": {},
   "outputs": [
    {
     "name": "stdout",
     "output_type": "stream",
     "text": [
      "Emma:\n"
     ]
    },
    {
     "data": {
      "image/png": "[encoded data removed]",
      "text/plain": [
       "<Figure size 432x288 with 1 Axes>"
      ]
     },
     "metadata": {
      "needs_background": "light"
     },
     "output_type": "display_data"
    }
   ],
   "source": [
    "print('Emma:')\n",
    "emma = nltk.Text(nltk.corpus.gutenberg.words('austen-emma.txt'))\n",
    "zipf(emma)\n",
    "random_word = \"\"\n",
    "for i in range(500000):\n",
    "    random_word += random.choice(\"abcdefg \")\n",
    "zipf(random_word.split())"
   ]
  },
  {
   "cell_type": "code",
   "execution_count": null,
   "metadata": {},
   "outputs": [],
   "source": []
  }
 ],
 "metadata": {
  "kernelspec": {
   "display_name": "Python 3",
   "language": "python",
   "name": "python3"
  },
  "language_info": {
   "codemirror_mode": {
    "name": "ipython",
    "version": 3
   },
   "file_extension": ".py",
   "mimetype": "text/x-python",
   "name": "python",
   "nbconvert_exporter": "python",
   "pygments_lexer": "ipython3",
   "version": "3.7.6"
  }
 },
 "nbformat": 4,
 "nbformat_minor": 4
}
