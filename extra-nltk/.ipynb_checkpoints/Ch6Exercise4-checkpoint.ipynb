{
 "cells": [
  {
   "cell_type": "code",
   "execution_count": 7,
   "metadata": {},
   "outputs": [],
   "source": [
    "import nltk\n",
    "import random"
   ]
  },
  {
   "cell_type": "code",
   "execution_count": 8,
   "metadata": {},
   "outputs": [
    {
     "name": "stdout",
     "output_type": "stream",
     "text": [
      "0.78\n",
      "Most Informative Features\n",
      " contains(unimaginative) = True              neg : pos    =      7.6 : 1.0\n",
      "    contains(schumacher) = True              neg : pos    =      7.3 : 1.0\n",
      "        contains(suvari) = True              neg : pos    =      6.9 : 1.0\n",
      "          contains(mena) = True              neg : pos    =      6.9 : 1.0\n",
      "     contains(atrocious) = True              neg : pos    =      6.5 : 1.0\n",
      "       contains(singers) = True              pos : neg    =      6.4 : 1.0\n",
      "       contains(miscast) = True              neg : pos    =      6.1 : 1.0\n",
      "         contains(awful) = True              neg : pos    =      5.9 : 1.0\n",
      "       contains(unravel) = True              pos : neg    =      5.7 : 1.0\n",
      "        contains(turkey) = True              neg : pos    =      5.6 : 1.0\n",
      "       contains(bronson) = True              neg : pos    =      5.6 : 1.0\n",
      "     contains(underwood) = True              neg : pos    =      5.6 : 1.0\n",
      "        contains(canyon) = True              neg : pos    =      5.6 : 1.0\n",
      "      contains(everyday) = True              pos : neg    =      5.5 : 1.0\n",
      "           contains(ugh) = True              neg : pos    =      5.3 : 1.0\n",
      "        contains(justin) = True              neg : pos    =      5.3 : 1.0\n",
      "        contains(wasted) = True              neg : pos    =      5.2 : 1.0\n",
      "        contains(poorly) = True              neg : pos    =      5.2 : 1.0\n",
      "    contains(ridiculous) = True              neg : pos    =      5.1 : 1.0\n",
      "        contains(fluffy) = True              pos : neg    =      5.1 : 1.0\n",
      "        contains(sorrow) = True              pos : neg    =      5.1 : 1.0\n",
      "        contains(welles) = True              neg : pos    =      4.9 : 1.0\n",
      "  contains(surveillance) = True              neg : pos    =      4.9 : 1.0\n",
      "     contains(stretched) = True              neg : pos    =      4.9 : 1.0\n",
      "         contains(waste) = True              neg : pos    =      4.9 : 1.0\n",
      "        contains(temper) = True              pos : neg    =      4.6 : 1.0\n",
      "       contains(martian) = True              neg : pos    =      4.6 : 1.0\n",
      "        contains(sexist) = True              neg : pos    =      4.6 : 1.0\n",
      "         contains(kudos) = True              pos : neg    =      4.5 : 1.0\n",
      "       contains(sandler) = True              neg : pos    =      4.4 : 1.0\n"
     ]
    }
   ],
   "source": [
    "from nltk.corpus import movie_reviews\n",
    "documents = [(list(movie_reviews.words(fileid)), category) for category in movie_reviews.categories() for fileid in movie_reviews.fileids(category)]\n",
    "random.shuffle(documents)\n",
    "\n",
    "all_words = nltk.FreqDist(w.lower() for w in movie_reviews.words())\n",
    "word_features = list(all_words)[:2000]\n",
    "def document_features(document):\n",
    "    document_words = set(document)\n",
    "    features = {}\n",
    "    for word in word_features:\n",
    "        features['contains(%s)' % word] = (word in document_words)\n",
    "    return features\n",
    "\n",
    "featuresets = [(document_features(d), c) for (d,c) in documents]\n",
    "train_set, test_set = featuresets[100:], featuresets[:100]\n",
    "classifier = nltk.NaiveBayesClassifier.train(train_set)\n",
    "print(nltk.classify.accuracy(classifier, test_set))\n",
    "classifier.show_most_informative_features(30)"
   ]
  },
  {
   "cell_type": "code",
   "execution_count": null,
   "metadata": {},
   "outputs": [],
   "source": []
  }
 ],
 "metadata": {
  "kernelspec": {
   "display_name": "Python 3",
   "language": "python",
   "name": "python3"
  },
  "language_info": {
   "codemirror_mode": {
    "name": "ipython",
    "version": 3
   },
   "file_extension": ".py",
   "mimetype": "text/x-python",
   "name": "python",
   "nbconvert_exporter": "python",
   "pygments_lexer": "ipython3",
   "version": "3.7.6"
  }
 },
 "nbformat": 4,
 "nbformat_minor": 4
}
