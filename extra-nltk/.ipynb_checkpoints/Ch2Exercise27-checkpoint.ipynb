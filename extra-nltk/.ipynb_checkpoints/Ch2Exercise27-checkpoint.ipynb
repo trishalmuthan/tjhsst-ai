{
 "cells": [
  {
   "cell_type": "code",
   "execution_count": 9,
   "metadata": {},
   "outputs": [],
   "source": [
    "import nltk\n",
    "from nltk.corpus import wordnet as wn"
   ]
  },
  {
   "cell_type": "code",
   "execution_count": 10,
   "metadata": {},
   "outputs": [],
   "source": [
    "def avg_polysemy(pos):\n",
    "    count_words = 0\n",
    "    total_sum = 0\n",
    "    visited = set()\n",
    "    all_synsets = wn.all_synsets(pos)\n",
    "    for synset in all_synsets:\n",
    "        for lemma in synset.lemmas():\n",
    "            if lemma.name() not in visited:\n",
    "                visited.add(lemma.name())\n",
    "                count_words += 1\n",
    "                total_sum += len(wn.synsets(lemma.name(), pos))\n",
    "    return (total_sum/count_words)"
   ]
  },
  {
   "cell_type": "code",
   "execution_count": 13,
   "metadata": {},
   "outputs": [
    {
     "name": "stdout",
     "output_type": "stream",
     "text": [
      "Average polysemy for nouns: 1.2833560159282222\n",
      "Average polysemy for verbs: 2.1866273523545225\n",
      "Average polysemy for adjectives: 1.4104837960813446\n",
      "Average polysemy for adverbs: 1.2532916759651864\n"
     ]
    }
   ],
   "source": [
    "avg_noun = avg_polysemy('n')\n",
    "avg_verb = avg_polysemy('v')\n",
    "avg_adj = avg_polysemy('a')\n",
    "avg_adv = avg_polysemy('r')\n",
    "print(f'Average polysemy for nouns: {avg_noun}')\n",
    "print(f'Average polysemy for verbs: {avg_verb}')\n",
    "print(f'Average polysemy for adjectives: {avg_adj}')\n",
    "print(f'Average polysemy for adverbs: {avg_adv}')"
   ]
  },
  {
   "cell_type": "code",
   "execution_count": null,
   "metadata": {},
   "outputs": [],
   "source": []
  }
 ],
 "metadata": {
  "kernelspec": {
   "display_name": "Python 3",
   "language": "python",
   "name": "python3"
  },
  "language_info": {
   "codemirror_mode": {
    "name": "ipython",
    "version": 3
   },
   "file_extension": ".py",
   "mimetype": "text/x-python",
   "name": "python",
   "nbconvert_exporter": "python",
   "pygments_lexer": "ipython3",
   "version": "3.7.6"
  }
 },
 "nbformat": 4,
 "nbformat_minor": 4
}
