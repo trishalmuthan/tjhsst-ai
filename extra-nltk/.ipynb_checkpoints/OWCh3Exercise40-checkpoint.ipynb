{
 "cells": [
  {
   "cell_type": "code",
   "execution_count": 12,
   "metadata": {},
   "outputs": [],
   "source": [
    "import nltk\n",
    "from nltk import word_tokenize"
   ]
  },
  {
   "cell_type": "code",
   "execution_count": 13,
   "metadata": {},
   "outputs": [],
   "source": [
    "raw_rural = nltk.corpus.abc.raw(\"rural.txt\")\n",
    "raw_science = nltk.corpus.abc.raw(\"science.txt\")"
   ]
  },
  {
   "cell_type": "code",
   "execution_count": 14,
   "metadata": {},
   "outputs": [],
   "source": [
    "def calc_ari(raw_text):\n",
    "    sentences = nltk.sent_tokenize(raw_text)\n",
    "    words = nltk.word_tokenize(raw_text)\n",
    "    total_sent_length = 0\n",
    "    for sentence in sentences:\n",
    "        total_sent_length += len(sentence)\n",
    "    avg_sentence_len = total_sent_length / len(sentences)\n",
    "    total_word_length = 0\n",
    "    for word in words:\n",
    "        total_word_length += len(word)\n",
    "    avg_word_len = total_word_length / len(words)\n",
    "    final_ari = 4.71*(avg_word_len) + 0.5*(avg_sentence_len) - 21.43\n",
    "    return final_ari"
   ]
  },
  {
   "cell_type": "code",
   "execution_count": 15,
   "metadata": {},
   "outputs": [
    {
     "name": "stdout",
     "output_type": "stream",
     "text": [
      "ARI for ABC Rural News: 68.56965469747922\n",
      "ARI for ABC Science New: 68.81483530728246\n"
     ]
    }
   ],
   "source": [
    "rural_ari = calc_ari(raw_rural)\n",
    "sci_ari = calc_ari(raw_science)\n",
    "print(f'ARI for ABC Rural News: {rural_ari}')\n",
    "print(f'ARI for ABC Science New: {sci_ari}')\n"
   ]
  }
 ],
 "metadata": {
  "kernelspec": {
   "display_name": "Python 3",
   "language": "python",
   "name": "python3"
  },
  "language_info": {
   "codemirror_mode": {
    "name": "ipython",
    "version": 3
   },
   "file_extension": ".py",
   "mimetype": "text/x-python",
   "name": "python",
   "nbconvert_exporter": "python",
   "pygments_lexer": "ipython3",
   "version": "3.7.6"
  }
 },
 "nbformat": 4,
 "nbformat_minor": 4
}
