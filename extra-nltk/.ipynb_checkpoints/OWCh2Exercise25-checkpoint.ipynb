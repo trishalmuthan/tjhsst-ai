{
 "cells": [
  {
   "cell_type": "code",
   "execution_count": 16,
   "metadata": {},
   "outputs": [],
   "source": [
    "import nltk\n",
    "from nltk.corpus import udhr"
   ]
  },
  {
   "cell_type": "code",
   "execution_count": 17,
   "metadata": {},
   "outputs": [],
   "source": [
    "def find_language(word):\n",
    "    langs = list()\n",
    "    for fileid in udhr.fileids():\n",
    "        if fileid.endswith('-Latin1'):\n",
    "            if word in udhr.words(fileid):\n",
    "                lang_name = fileid[:-7]\n",
    "                langs.append(lang_name)\n",
    "    return langs"
   ]
  },
  {
   "cell_type": "code",
   "execution_count": 18,
   "metadata": {},
   "outputs": [
    {
     "name": "stdout",
     "output_type": "stream",
     "text": [
      "Languages that have the word \"hi\": ['Catalan', 'Catalan_Catala', 'Chickasaw', 'Cokwe', 'Guarani', 'Lunda_Chokwe-lunda', 'Paez', 'Sukuma', 'Welsh_Cymraeg']\n",
      "Languages that have the word \"man\": ['Bichelamar', 'Bikol_Bicolano', 'Cakchiquel', 'Chamorro', 'Chuuk_Trukese', 'English', 'Friulian_Friulano', 'Hiligaynon', 'Ibibio_Efik', 'Iloko_Ilocano', 'Kapampangan', 'Kiche_Quiche', 'Luxembourgish_Letzebuergeusch', 'Mam', 'Marshallese', 'NigerianPidginEnglish', 'Sharanahua', 'SolomonsPidgin_Pijin', 'Tiv', 'TokPisin', 'Trukese_Chuuk', 'Waray']\n",
      "Languages that have the word \"and\": ['Albanian_Shqip', 'Bemba', 'Cebuano', 'English', 'NigerianPidginEnglish', 'Romani']\n"
     ]
    }
   ],
   "source": [
    "hi_langs = find_language('hi')\n",
    "man_langs = find_language('man')\n",
    "and_langs = find_language('and')\n",
    "\n",
    "print(f'Languages that have the word \"hi\": {hi_langs}')\n",
    "print(f'Languages that have the word \"man\": {man_langs}')\n",
    "print(f'Languages that have the word \"and\": {and_langs}')"
   ]
  }
 ],
 "metadata": {
  "kernelspec": {
   "display_name": "Python 3",
   "language": "python",
   "name": "python3"
  },
  "language_info": {
   "codemirror_mode": {
    "name": "ipython",
    "version": 3
   },
   "file_extension": ".py",
   "mimetype": "text/x-python",
   "name": "python",
   "nbconvert_exporter": "python",
   "pygments_lexer": "ipython3",
   "version": "3.7.6"
  }
 },
 "nbformat": 4,
 "nbformat_minor": 4
}
