{
 "cells": [
  {
   "cell_type": "code",
   "execution_count": 15,
   "metadata": {},
   "outputs": [],
   "source": [
    "import nltk"
   ]
  },
  {
   "cell_type": "code",
   "execution_count": 16,
   "metadata": {},
   "outputs": [
    {
     "name": "stdout",
     "output_type": "stream",
     "text": [
      "Number of all entries: 133737\n",
      "Number of distinct words: 123455\n",
      "Fraction of words with more than one pronunciation: 0.07688223902136282\n"
     ]
    }
   ],
   "source": [
    "cmudict = nltk.corpus.cmudict\n",
    "\n",
    "all_entries = cmudict.entries()\n",
    "num_all_entries = len(all_entries)\n",
    "print(f'Number of all entries: {num_all_entries}')\n",
    "\n",
    "distinct_words = set([word for word, pronunciation in all_entries])\n",
    "num_distinct_words = len(distinct_words)\n",
    "print(f'Number of distinct words: {num_distinct_words}')\n",
    "\n",
    "print(f'Fraction of words with more than one pronunciation: {(num_all_entries - num_distinct_words)/num_all_entries}')"
   ]
  }
 ],
 "metadata": {
  "kernelspec": {
   "display_name": "Python 3",
   "language": "python",
   "name": "python3"
  },
  "language_info": {
   "codemirror_mode": {
    "name": "ipython",
    "version": 3
   },
   "file_extension": ".py",
   "mimetype": "text/x-python",
   "name": "python",
   "nbconvert_exporter": "python",
   "pygments_lexer": "ipython3",
   "version": "3.7.6"
  }
 },
 "nbformat": 4,
 "nbformat_minor": 4
}
