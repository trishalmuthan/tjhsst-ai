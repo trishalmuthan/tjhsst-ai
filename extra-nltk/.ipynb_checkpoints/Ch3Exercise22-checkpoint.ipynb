{
 "cells": [
  {
   "cell_type": "code",
   "execution_count": 20,
   "metadata": {},
   "outputs": [],
   "source": [
    "from urllib import request\n",
    "from bs4 import BeautifulSoup\n",
    "import nltk\n",
    "from nltk import word_tokenize"
   ]
  },
  {
   "cell_type": "code",
   "execution_count": 44,
   "metadata": {},
   "outputs": [],
   "source": [
    "def read_webpage(url):\n",
    "    html = request.urlopen(url).read().decode('utf8')\n",
    "    raw = BeautifulSoup(html, 'html.parser')\n",
    "    for r in raw(['script', 'style']):\n",
    "        r.extract() # remove tags\n",
    "    text = ' '.join(raw.stripped_strings) # retrieve tag content\n",
    "    return text"
   ]
  },
  {
   "cell_type": "code",
   "execution_count": 46,
   "metadata": {},
   "outputs": [
    {
     "data": {
      "text/plain": [
       "'Home - BBC News Homepage Accessibility links Skip to content Accessibility Help BBC Account Notifications Home News Sport Weather iPlayer Sounds CBBC CBeebies Food Bitesize Arts Taster Local Three Menu Search Search the BBC Search the BBC BBC News News Navigation Sections Home Home selected Coronavirus Video World US & Canada UK Business Tech Science Stories Entertainment & Arts Health In Pictures Reality Check World News TV Newsbeat Long Reads More More sections Home Home selected Coronavirus Coronavirus Home Your Coronavirus Stories Video World World Home Africa Asia Australia Europe Latin America Middle East US & Canada UK UK Home England N. Ireland Scotland Wales Local News Business Business Home Market Data New Economy New Tech Economy Companies Entrepreneurship Technology of Business Economy CEO Secrets Global Car Industry Business of Sport Tech Science Stories Entertainment & Arts Health Health Home Coronavirus In Pictures Reality Check World News TV Newsbeat Long Reads BBC News'"
      ]
     },
     "execution_count": 46,
     "metadata": {},
     "output_type": "execute_result"
    }
   ],
   "source": [
    "url = \"https://www.bbc.com/news\"\n",
    "read_webpage(url)[:1000]"
   ]
  },
  {
   "cell_type": "code",
   "execution_count": null,
   "metadata": {},
   "outputs": [],
   "source": []
  }
 ],
 "metadata": {
  "kernelspec": {
   "display_name": "Python 3",
   "language": "python",
   "name": "python3"
  },
  "language_info": {
   "codemirror_mode": {
    "name": "ipython",
    "version": 3
   },
   "file_extension": ".py",
   "mimetype": "text/x-python",
   "name": "python",
   "nbconvert_exporter": "python",
   "pygments_lexer": "ipython3",
   "version": "3.7.6"
  }
 },
 "nbformat": 4,
 "nbformat_minor": 4
}
