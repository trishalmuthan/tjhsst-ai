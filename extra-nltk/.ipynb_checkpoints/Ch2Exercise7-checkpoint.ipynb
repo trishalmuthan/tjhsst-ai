{
 "cells": [
  {
   "cell_type": "code",
   "execution_count": 5,
   "metadata": {},
   "outputs": [],
   "source": [
    "import nltk\n",
    "emma = nltk.Text(nltk.corpus.gutenberg.words('austen-emma.txt'))\n",
    "ball = nltk.Text(nltk.corpus.gutenberg.words('chesterton-ball.txt'))\n",
    "macbeth = nltk.Text(nltk.corpus.gutenberg.words('shakespeare-macbeth.txt'))\n",
    "leaves = nltk.Text(nltk.corpus.gutenberg.words('whitman-leaves.txt'))"
   ]
  },
  {
   "cell_type": "code",
   "execution_count": 8,
   "metadata": {},
   "outputs": [
    {
     "name": "stdout",
     "output_type": "stream",
     "text": [
      "\n",
      "Usage of however in Emma\n",
      "Displaying 25 of 131 matches:\n",
      " her many enjoyments . The danger , however , was at present so unperceived , t\n",
      "ion would offend . Miss Churchill , however , being of age , and with the full \n",
      "n . From the expense of the child , however , he was soon relieved . The boy ha\n",
      " -- and been very well brought up . However , I do not mean to set up my opinio\n",
      "f and predict . It was not likely , however , that any body should have equalle\n",
      "to be borne . We will not despair , however . Weston may grow cross from the wa\n",
      "is so very handsome and agreeable . However , I do really think Mr . Martin a v\n",
      " accepted after all . This letter , however , was written , and sealed , and se\n",
      "e him .\" \" And if I did , ( which , however , I am far from allowing ) I should\n",
      " slightingly . Waiving that point , however , and supposing her to be , as you \n",
      "e was not so materially cast down , however , but that a little time and the re\n",
      "ld inspire him .\" The very next day however produced some proof of inspiration \n",
      "and staid to look through herself ; however , she called me back presently , an\n",
      "t turn up . His ostensible reason , however , was to ask whether Mr . Woodhouse\n",
      "l and cross . This does not apply , however , to Miss Bates ; she is only too g\n",
      "and sufferings of the poor family , however , were the first subject on meeting\n",
      "ting for her . She gained on them , however , involuntarily : the child ' s pac\n",
      "ould close it . It was not closed , however , it still remained ajar ; but by e\n",
      " believes himself secure .\" Still , however , though every thing had not been a\n",
      "ght advance rapidly if they would , however ; they must advance somehow or othe\n",
      " offence came not . The beginning , however , of every visit displayed none but\n",
      "eed !-- and my memory is very bad . However , it was an exceeding good , pretty\n",
      "first day . Emma ' s sense of right however had decided it ; and besides the co\n",
      "le fatigued . I could have wished , however , as you know , that you had seen M\n",
      "\" Our little friend Harriet Smith , however , is just such another pretty kind \n",
      "\n",
      "Usage of however in Leaves\n",
      "Displaying 12 of 12 matches:\n",
      "like One including and over all , ( However high the head of any else that head\n",
      " . Allons ! we must not stop here , However sweet these laid - up stores , howe\n",
      "ever sweet these laid - up stores , however convenient this dwelling we cannot \n",
      "is dwelling we cannot remain here , However shelter ' d this port and however c\n",
      ", However shelter ' d this port and however calm these waters we must not ancho\n",
      "se waters we must not anchor here , However welcome the hospitality that surrou\n",
      "and pass it , To conceive no time , however distant , but what you may reach it\n",
      "ut it stretches and waits for you , however long but it stretches and waits for\n",
      " , planets , All distances of place however wide , All distances of time , all \n",
      "hou wouldst not really sell thyself however great the price , In that thou sure\n",
      "im recesses , Acknowledging rapport however far remov ' d , ( As some old root \n",
      "n to its divine source and origin , however distant , Latent the same in subjec\n"
     ]
    }
   ],
   "source": [
    "print('\\nUsage of however in Emma')\n",
    "emma.concordance('however')\n",
    "\n",
    "#print('\\nUsage of however in Ball')\n",
    "#ball.concordance('however')\n",
    "\n",
    "#print('\\nUsage of however in Macbeth')\n",
    "#macbeth.concordance('however')\n",
    "\n",
    "print('\\nUsage of however in Leaves')\n",
    "leaves.concordance('however')"
   ]
  },
  {
   "cell_type": "code",
   "execution_count": null,
   "metadata": {},
   "outputs": [],
   "source": []
  }
 ],
 "metadata": {
  "kernelspec": {
   "display_name": "Python 3",
   "language": "python",
   "name": "python3"
  },
  "language_info": {
   "codemirror_mode": {
    "name": "ipython",
    "version": 3
   },
   "file_extension": ".py",
   "mimetype": "text/x-python",
   "name": "python",
   "nbconvert_exporter": "python",
   "pygments_lexer": "ipython3",
   "version": "3.7.6"
  }
 },
 "nbformat": 4,
 "nbformat_minor": 4
}
