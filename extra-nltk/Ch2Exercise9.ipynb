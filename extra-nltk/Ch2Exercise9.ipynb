{
 "cells": [
  {
   "cell_type": "code",
   "execution_count": 33,
   "metadata": {},
   "outputs": [],
   "source": [
    "import nltk"
   ]
  },
  {
   "cell_type": "code",
   "execution_count": 34,
   "metadata": {},
   "outputs": [
    {
     "name": "stdout",
     "output_type": "stream",
     "text": [
      "Sense and Sensibility: \n",
      "Average word length: 4.753785952421314\n",
      "Average sentence length: 28.32086417283457\n",
      "Lexical Diversity: 22.11088552241137\n",
      "\n",
      "Emma: \n",
      "Average word length: 4.609909212324673\n",
      "Average sentence length: 24.822884416924666\n",
      "Lexical Diversity: 26.201933551198255\n",
      "\n",
      "Use of the word \"arm\" in both novels:\n",
      "\n",
      "\"Arm\" in Sense and Sensibility\n",
      "Displaying 3 of 3 matches:\n",
      "er sister ' s chair , and putting one arm round her neck , and one cheek close \n",
      "Steele , taking her familiarly by the arm --\" for I wanted to see you of all th\n",
      " and Marianne , leaning on Elinor ' s arm , was authorised to walk as long as s\n",
      "\n",
      "\"Arm\" in Emma\n",
      "Displaying 16 of 16 matches:\n",
      "autiful we thought he looked ! He was arm - in - arm with Mr . Cole .\" \" This i\n",
      "thought he looked ! He was arm - in - arm with Mr . Cole .\" \" This is an allian\n",
      "u will be so kind as to give her your arm .-- Mr . Elton , and Miss Hawkins !--\n",
      " could imagine she saw a touch of the arm at this speech , from his wife . \" We\n",
      "em walking up to the house together , arm in arm . She was wanting to see him a\n",
      "ing up to the house together , arm in arm . She was wanting to see him again , \n",
      "ed the other ladies out of the room , arm in arm , with an appearance of good -\n",
      "other ladies out of the room , arm in arm , with an appearance of good - will h\n",
      " conservatory without having both his arm and his uncle ' s ! This , you know ,\n",
      "ost kind . Upon my word , Jane on one arm , and me on the other !-- Stop , stop\n",
      "urchill , with Harriet leaning on his arm -- actually Harriet !-- A moment suff\n",
      "ervour as she seized and clung to his arm , with a sensibility amused and delig\n",
      "ne of my little baskets hanging on my arm . Here ,-- probably this basket with \n",
      "ne spot . Come , Jane , take my other arm .\" Jane declined it , however , and t\n",
      "ticular interest , till she found her arm drawn within his , and pressed agains\n",
      " you will not allow yourself --.\" Her arm was pressed again , as he added , in \n"
     ]
    }
   ],
   "source": [
    "text_file1 = 'austen-sense.txt'\n",
    "num_chars = len(nltk.corpus.gutenberg.raw(text_file1))\n",
    "num_words = len(nltk.corpus.gutenberg.words(text_file1))\n",
    "num_sents = len(nltk.corpus.gutenberg.sents(text_file1))\n",
    "num_vocab = len(set(w.lower() for w in nltk.corpus.gutenberg.words(text_file1)))\n",
    "print('Sense and Sensibility: ')\n",
    "print(f'Average word length: {num_chars/num_words}')\n",
    "print(f'Average sentence length: {num_words/num_sents}')\n",
    "print(f'Lexical Diversity: {num_words/num_vocab}')\n",
    "print()\n",
    "\n",
    "text_file2 = 'austen-emma.txt'\n",
    "num_chars = len(nltk.corpus.gutenberg.raw(text_file2))\n",
    "num_words = len(nltk.corpus.gutenberg.words(text_file2))\n",
    "num_sents = len(nltk.corpus.gutenberg.sents(text_file2))\n",
    "num_vocab = len(set(w.lower() for w in nltk.corpus.gutenberg.words(text_file2)))\n",
    "print('Emma: ')\n",
    "print(f'Average word length: {num_chars/num_words}')\n",
    "print(f'Average sentence length: {num_words/num_sents}')\n",
    "print(f'Lexical Diversity: {num_words/num_vocab}')\n",
    "\n",
    "text1 = nltk.Text(nltk.corpus.gutenberg.words(text_file1))\n",
    "text2 = nltk.Text(nltk.corpus.gutenberg.words(text_file2))\n",
    "print()\n",
    "print('Use of the word \"arm\" in both novels:')\n",
    "print()\n",
    "print('\"Arm\" in Sense and Sensibility')\n",
    "text1.concordance('arm')\n",
    "print()\n",
    "print('\"Arm\" in Emma')\n",
    "text2.concordance('arm')"
   ]
  }
 ],
 "metadata": {
  "kernelspec": {
   "display_name": "Python 3",
   "language": "python",
   "name": "python3"
  },
  "language_info": {
   "codemirror_mode": {
    "name": "ipython",
    "version": 3
   },
   "file_extension": ".py",
   "mimetype": "text/x-python",
   "name": "python",
   "nbconvert_exporter": "python",
   "pygments_lexer": "ipython3",
   "version": "3.7.6"
  }
 },
 "nbformat": 4,
 "nbformat_minor": 4
}
