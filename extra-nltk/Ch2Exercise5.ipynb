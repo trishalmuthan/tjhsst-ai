{
 "cells": [
  {
   "cell_type": "code",
   "execution_count": 1,
   "metadata": {},
   "outputs": [],
   "source": [
    "import nltk\n",
    "from nltk.corpus import wordnet as wn"
   ]
  },
  {
   "cell_type": "code",
   "execution_count": 8,
   "metadata": {},
   "outputs": [
    {
     "name": "stdout",
     "output_type": "stream",
     "text": [
      "For noun \"tree\":\n",
      "[]\n",
      "[Synset('burl.n.02'), Synset('crown.n.07'), Synset('limb.n.02'), Synset('stump.n.01'), Synset('trunk.n.01')]\n",
      "[Synset('heartwood.n.01'), Synset('sapwood.n.01')]\n",
      "[Synset('forest.n.01')]\n",
      "[]\n",
      "[]\n",
      "\n",
      "For noun \"person\":\n",
      "[]\n",
      "[Synset('human_body.n.01'), Synset('personality.n.01')]\n",
      "[]\n",
      "[Synset('people.n.01')]\n",
      "[]\n",
      "[]\n",
      "\n",
      "For noun \"dog\":\n",
      "[]\n",
      "[Synset('flag.n.07')]\n",
      "[]\n",
      "[Synset('canis.n.01'), Synset('pack.n.06')]\n",
      "[]\n",
      "[]\n"
     ]
    }
   ],
   "source": [
    "synset = wn.synset('tree.n.01')\n",
    "print('For noun \"tree\":')\n",
    "print(synset.member_meronyms())\n",
    "print(synset.part_meronyms())\n",
    "print(synset.substance_meronyms())\n",
    "print(synset.member_holonyms())\n",
    "print(synset.part_holonyms())\n",
    "print(synset.substance_holonyms())\n",
    "print()\n",
    "synset = wn.synset('person.n.01')\n",
    "print('For noun \"person\":')\n",
    "print(synset.member_meronyms())\n",
    "print(synset.part_meronyms())\n",
    "print(synset.substance_meronyms())\n",
    "print(synset.member_holonyms())\n",
    "print(synset.part_holonyms())\n",
    "print(synset.substance_holonyms())\n",
    "print()\n",
    "synset = wn.synset('dog.n.01')\n",
    "print('For noun \"dog\":')\n",
    "print(synset.member_meronyms())\n",
    "print(synset.part_meronyms())\n",
    "print(synset.substance_meronyms())\n",
    "print(synset.member_holonyms())\n",
    "print(synset.part_holonyms())\n",
    "print(synset.substance_holonyms())"
   ]
  },
  {
   "cell_type": "code",
   "execution_count": null,
   "metadata": {},
   "outputs": [],
   "source": []
  }
 ],
 "metadata": {
  "kernelspec": {
   "display_name": "Python 3",
   "language": "python",
   "name": "python3"
  },
  "language_info": {
   "codemirror_mode": {
    "name": "ipython",
    "version": 3
   },
   "file_extension": ".py",
   "mimetype": "text/x-python",
   "name": "python",
   "nbconvert_exporter": "python",
   "pygments_lexer": "ipython3",
   "version": "3.7.6"
  }
 },
 "nbformat": 4,
 "nbformat_minor": 4
}
